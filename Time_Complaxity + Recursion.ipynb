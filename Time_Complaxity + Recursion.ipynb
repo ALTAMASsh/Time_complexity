{
 "cells": [
  {
   "cell_type": "markdown",
   "id": "10e38dfc-dcdf-40d8-9913-d16776875113",
   "metadata": {
    "jp-MarkdownHeadingCollapsed": true,
    "tags": []
   },
   "source": [
    "### Problem 1 :  O(n^2)\n",
    "# ANd best case O(logn)"
   ]
  },
  {
   "cell_type": "code",
   "execution_count": null,
   "id": "2d54511f-fb28-4b35-8a60-c0ec8e496ac3",
   "metadata": {},
   "outputs": [],
   "source": [
    "def quicksort(arr):\n",
    "    if len(arr) <= 1:\n",
    "        return arr\n",
    "    pivot = arr[len(arr) // 2]\n",
    "    left = [x for x in arr if x < pivot]\n",
    "    middle = [x for x in arr if x == pivot]\n",
    "    right = [x for x in arr if x > pivot]\n",
    "    return quicksort(left) + middle + quicksort(right)\n",
    "arr = [0,9,8,7,6,5,4,3,2,1]\n",
    "quicksort(arr)"
   ]
  },
  {
   "cell_type": "markdown",
   "id": "1199a200-a2b5-431a-8f73-d3242bd0050d",
   "metadata": {
    "jp-MarkdownHeadingCollapsed": true,
    "tags": []
   },
   "source": [
    "### Problem 2 : \n",
    "#Time complaxity O(n^2)"
   ]
  },
  {
   "cell_type": "code",
   "execution_count": 5,
   "id": "e617d9d2-0713-48ca-844c-d45d593c605c",
   "metadata": {},
   "outputs": [],
   "source": [
    "def nested_loop_example(matrix):\n",
    "    rows, cols = len(matrix), len(matrix[0])\n",
    "    total = 0\n",
    "    for i in range(rows):\n",
    "        for j in range(cols):\n",
    "            total += matrix[i][j]\n",
    "    return total\n",
    "matrix = [[2,3],[4,5],[6,7]]\n",
    "nested_loop_example(matrix)"
   ]
  },
  {
   "cell_type": "markdown",
   "id": "13f19d76-8821-4690-99e3-59041c16ee8e",
   "metadata": {
    "jp-MarkdownHeadingCollapsed": true,
    "tags": []
   },
   "source": [
    "# Problem 3 : O(n)"
   ]
  },
  {
   "cell_type": "code",
   "execution_count": null,
   "id": "945ba012-e2a9-4296-ad72-a42932c4dfad",
   "metadata": {},
   "outputs": [],
   "source": [
    "def example_function(arr):\n",
    "    result = 0\n",
    "    for element in arr:\n",
    "        result += element\n",
    "    return result\n",
    "w = [2,3]\n",
    "example_function(w)"
   ]
  },
  {
   "cell_type": "markdown",
   "id": "48a033ad-fb1a-4642-a31c-eb59549b25d7",
   "metadata": {
    "jp-MarkdownHeadingCollapsed": true,
    "tags": []
   },
   "source": [
    "# Problem 4 : O(n^2)"
   ]
  },
  {
   "cell_type": "code",
   "execution_count": 10,
   "id": "a2cdd423-4f6f-4eac-882d-f22674621f31",
   "metadata": {},
   "outputs": [],
   "source": [
    "def longest_increasing_subsequence(nums):\n",
    "    n = len(nums)\n",
    "    lis = [1] * n\n",
    "    for i in range(1, n):\n",
    "        for j in range(0, i):\n",
    "            if nums[i] > nums[j] and lis[i] < lis[j] + 1:\n",
    "                lis[i] = lis[j] + 1\n",
    "    return max(lis)"
   ]
  },
  {
   "cell_type": "markdown",
   "id": "03736533-184f-46f8-8e9a-29a6c8041511",
   "metadata": {
    "tags": []
   },
   "source": [
    "# Problem 5 : O(n^2)"
   ]
  },
  {
   "cell_type": "code",
   "execution_count": null,
   "id": "e3e8ebb7-a371-4399-b057-68450b154fbf",
   "metadata": {},
   "outputs": [],
   "source": [
    "def mysterious_function(arr):\n",
    "    n = len(arr)\n",
    "    result = 0\n",
    "    for i in range(n):\n",
    "        for j in range(i, n):\n",
    "            result += arr[i] * arr[j]\n",
    "    return result\n",
    "arr = [2]\n",
    "mysterious_function(arr)"
   ]
  },
  {
   "cell_type": "markdown",
   "id": "93aef6cb-13a8-4fe4-9676-9d7f1804f630",
   "metadata": {},
   "source": [
    "# Solve the following problems on recursion"
   ]
  },
  {
   "cell_type": "code",
   "execution_count": null,
   "id": "1e06a6e3-0aa8-434c-9806-ead08d1a13c9",
   "metadata": {},
   "outputs": [],
   "source": [
    "#Problem 6 : Sum of Digits\n",
    "#Write a recursive function to calculate the sum of digits of a given positive integer.\n",
    "#sum_of_digits(123) -> 6\n",
    "def sum_of_digits(n):\n",
    "    if n == 0:\n",
    "        return 0\n",
    "    else:\n",
    "        return  (n % 10 + sum_of_digits(n//10))\n",
    "sum_of_digits(123)           "
   ]
  },
  {
   "cell_type": "code",
   "execution_count": null,
   "id": "8d5c7bd7-b9fc-4662-a297-ce03c11cb2ca",
   "metadata": {},
   "outputs": [],
   "source": [
    "#Problem 7: Fibonacci Series\n",
    "#Write a recursive function to generate the first n numbers of the Fibonacci series.\n",
    "#fibonacci_series(6) -> [0, 1, 1, 2, 3, 5]\n",
    "def fibonacci_series(n):\n",
    "    if n <= 0:\n",
    "        return []\n",
    "    elif n == 1:\n",
    "        return [0]\n",
    "    elif n == 2:\n",
    "        return [0, 1]\n",
    "    else:\n",
    "        fib = fibonacci_series(n - 1)\n",
    "        fib.append(fib[-1] + fib[-2])\n",
    "        return fib\n",
    "fibonacci_series(6)"
   ]
  },
  {
   "cell_type": "code",
   "execution_count": 6,
   "id": "94f69437-74a8-4b96-b992-78613a7432a7",
   "metadata": {},
   "outputs": [
    {
     "data": {
      "text/plain": [
       "False"
      ]
     },
     "execution_count": 6,
     "metadata": {},
     "output_type": "execute_result"
    }
   ],
   "source": [
    "#Problem 8 : Subset Sum\n",
    "#Given a set of positive integers and a target sum, write a recursive function to determine if there exists a subset \n",
    "#of the integers that adds up to the target sum.\n",
    "#subset_sum([3, 34, 4, 12, 5, 2], 9) -> True\n",
    "def SubsetSum(list,n):\n",
    "    for i in list:\n",
    "        if (n-i) in list:\n",
    "            return True\n",
    "    return False\n",
    "SubsetSum([3, 34, 4, 12, 5, 2], 9)"
   ]
  },
  {
   "cell_type": "code",
   "execution_count": null,
   "id": "9cd96be6-c44c-4dd2-9ab3-1e79c1305c53",
   "metadata": {},
   "outputs": [],
   "source": [
    "#Problem 9: Word Break\n",
    "#Given a non-empty string and a dictionary of words, write a recursive function to determine if the string can be segmented into a space-separated sequence of dictionary words.\n",
    "#word_break( leetcode , [ leet , code ]) -> True\n",
    "def wordBreak(Wordlist,word):\n",
    "    if word == \"\":\n",
    "        return True\n",
    "    word_len = len(word)\n",
    "    for i in range(1,word_len+1):\n",
    "        if word[:i] in  Wordlist and wordBreak(Wordlist,word[i:]):\n",
    "            return True\n",
    "    return False\n",
    "print(wordBreak([\"leet\",\"code\"], \"leetcodes\"))\n",
    "print(wordBreak([\"I\",\"am\", \"sam\", \"sung\", \"love\", \"vishwa\"], \"samsung\"))"
   ]
  },
  {
   "cell_type": "code",
   "execution_count": 62,
   "id": "e72d4aa4-9e70-44ca-b859-41ddc8555f65",
   "metadata": {},
   "outputs": [],
   "source": [
    "#Problem 10 : N-Queens\n",
    "#Implement a recursive function to solve the N Queens problem, where you have to place N queens on an N×N \n",
    "#chessboard in such a way that no two queens threaten each othe\n",
    "def isSafeToPlaceQueen(board,row,col,n):\n",
    "    #check the left side \n",
    "    for i in range(col):\n",
    "        if board[row][i]==1:\n",
    "            return False\n",
    "    #check the upper left digonal\n",
    "    for i,j in zip(range(row,-1,-1),range(col,-1,-1)):\n",
    "        if board[i][j] == 1:\n",
    "            return False\n",
    "    #check in the lower left diognal\n",
    "    for i,j in zip(range(row,n,1),range(col,-1,-1)):\n",
    "        if board[i][j]==1:\n",
    "            return False\n",
    "    return True\n",
    "def solveNQUtil(board , col , n):\n",
    "    if(col >=n): #Base condition\n",
    "        return True  # Means we have bee able to put queens in all the columns\n",
    "    # Check for all the rows\n",
    "    for row in range(n):\n",
    "        if isSafeToPlaceQueen(board,row,col,n):\n",
    "            board[row][col]=1 #Set the queen\n",
    "            \n",
    "            #Recursively try for the next columns\n",
    "            if solveNQUtil(board,col+1,n):\n",
    "                return True\n",
    "            #Back Tracking\n",
    "            board[row][col]= 0 # Queen can't be set here\n",
    "    return False\n",
    "def printBoard(board,n):\n",
    "    for i in range(n):\n",
    "        for j in range(n):\n",
    "            if board[i][j]==1:\n",
    "                print(\"Q\",end=\" \")\n",
    "            else:\n",
    "                print(\".\",end=\" \")\n",
    "        print()\n",
    "def solveNQ(board,n):\n",
    "    if not solveNQUtil(board,0,n):\n",
    "        print(\"Solution does't Excits\")\n",
    "        return \n",
    "    printBoard(board,n)\n",
    "board = [[0,0,0,0],\n",
    "         [0,0,0,0],\n",
    "         [0,0,0,0],\n",
    "         [0,0,0,0]\n",
    "         ]\n",
    "solveNQ(board,4)"
   ]
  },
  {
   "cell_type": "code",
   "execution_count": null,
   "id": "8b338832-9dfb-4478-9a8c-16d273e90fdd",
   "metadata": {},
   "outputs": [],
   "source": []
  }
 ],
 "metadata": {
  "kernelspec": {
   "display_name": "Python 3 (ipykernel)",
   "language": "python",
   "name": "python3"
  },
  "language_info": {
   "codemirror_mode": {
    "name": "ipython",
    "version": 3
   },
   "file_extension": ".py",
   "mimetype": "text/x-python",
   "name": "python",
   "nbconvert_exporter": "python",
   "pygments_lexer": "ipython3",
   "version": "3.10.8"
  }
 },
 "nbformat": 4,
 "nbformat_minor": 5
}
